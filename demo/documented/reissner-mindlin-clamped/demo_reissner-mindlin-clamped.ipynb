{
 "cells": [
  {
   "cell_type": "markdown",
   "id": "developed-surveillance",
   "metadata": {},
   "source": [
    "# Clamped Reissner-Mindlin plate under uniform load\n",
    "## Pure DOLFINX implementation\n",
    "\n",
    "This demo program solves the out-of-plane Reissner-Mindlin equations on the\n",
    "unit square with uniform transverse loading with fully clamped boundary\n",
    "conditions. This version does not use the special projected assembly routines in FEniCS-ShellsX.\n",
    "\n",
    "It is assumed the reader understands most of the basic functionality\n",
    "of the new FEniCSX Project.\n",
    "\n",
    "This demo illustrates how to:\n",
    "\n",
    "- Define the Reissner-Mindlin plate equations using UFL.\n",
    "- Define the Durán-Liberman (MITC) reduction operator using UFL. This procedure\n",
    "  eliminates the shear-locking problem.\n",
    "\n",
    "We begin by importing the necessary functionality from DOLFINX, UFL and PETSc."
   ]
  },
  {
   "cell_type": "code",
   "execution_count": 1,
   "id": "spare-commerce",
   "metadata": {},
   "outputs": [],
   "source": [
    "import dolfinx\n",
    "import numpy as np\n",
    "import ufl\n",
    "from dolfinx import Constant, DirichletBC, Function, FunctionSpace, UnitSquareMesh\n",
    "from dolfinx.cpp.mesh import CellType\n",
    "from dolfinx.fem import (\n",
    "    apply_lifting,\n",
    "    assemble_matrix,\n",
    "    assemble_vector,\n",
    "    locate_dofs_topological,\n",
    "    set_bc,\n",
    ")\n",
    "from dolfinx.io import XDMFFile\n",
    "from dolfinx.mesh import locate_entities_boundary\n",
    "from mpi4py import MPI\n",
    "from petsc4py import PETSc\n",
    "from ufl import (\n",
    "    EnrichedElement,\n",
    "    FiniteElement,\n",
    "    MixedElement,\n",
    "    RestrictedElement,\n",
    "    VectorElement,\n",
    "    dx,\n",
    "    grad,\n",
    "    inner,\n",
    "    split,\n",
    "    sym,\n",
    "    tr,\n",
    ")"
   ]
  },
  {
   "cell_type": "markdown",
   "id": "hazardous-sight",
   "metadata": {},
   "source": [
    "We then create a two-dimensional mesh of the mid-plane of the plate $\\Omega = [0, 1] \\times [0, 1]$. `GhostMode.shared_facet` is required as the Form will use Nédélec elements and DG-type restrictions."
   ]
  },
  {
   "cell_type": "code",
   "execution_count": 2,
   "id": "failing-emperor",
   "metadata": {},
   "outputs": [],
   "source": [
    "mesh = UnitSquareMesh(\n",
    "    MPI.COMM_WORLD,\n",
    "    32,\n",
    "    32,\n",
    "    CellType.triangle,\n",
    "    dolfinx.cpp.mesh.GhostMode.shared_facet,\n",
    ")"
   ]
  },
  {
   "cell_type": "markdown",
   "id": "northern-intellectual",
   "metadata": {},
   "source": [
    "The Durán-Liberman element [1] for the Reissner-Mindlin plate problem consists of\n",
    "\n",
    "- second-order vector-valued Lagrange element for the rotation field $\\theta \\in\n",
    "  [\\mathrm{CG}_2]^2$,\n",
    "- a first-order scalar valued Lagrange element for the transverse\n",
    "  displacement field $w \\in \\mathrm{CG}_1$, \n",
    "- the reduced shear strain $\\gamma_R \\in \\mathrm{NED}_1$ the vector-valued Nédélec \n",
    "  elements of the first kind and,\n",
    "- a Lagrange multiplier field $p$ that ties together the shear strain calculated from\n",
    "  the primal variables $\\gamma = \\nabla w - \\theta$ and the reduced shear\n",
    "  strain $\\gamma_R$. Both $p$ and $\\gamma_R$ are are discretised in \n",
    "  the space $\\mathrm{NED}_1$, the vector-valued Nédélec elements of the first\n",
    "  kind. \n",
    "\n",
    "The final element definition is"
   ]
  },
  {
   "cell_type": "code",
   "execution_count": 3,
   "id": "f2db5e71-eab2-47b0-93f5-863bac10d105",
   "metadata": {},
   "outputs": [],
   "source": [
    "def duran_liberman(cell):\n",
    "    assert cell == ufl.triangle\n",
    "    U_el = MixedElement(\n",
    "        [\n",
    "            VectorElement(\"Lagrange\", cell, 2),\n",
    "            FiniteElement(\"Lagrange\", cell, 1),\n",
    "            FiniteElement(\"N1curl\", cell, 1),\n",
    "            FiniteElement(\"N1curl\", cell, 1),\n",
    "        ]\n",
    "    )\n",
    "    return U_el"
   ]
  },
  {
   "cell_type": "markdown",
   "id": "d656a3a4-216e-4bf2-a202-5506095016bf",
   "metadata": {},
   "source": [
    "Additionally, you can change the element definition to support the MITC4 and MITC9 elements that are defined on a quadrilaterals."
   ]
  },
  {
   "cell_type": "code",
   "execution_count": 4,
   "id": "7610e3ed-1d37-4390-9707-13ee4beae5c4",
   "metadata": {},
   "outputs": [],
   "source": [
    "def MITC4(cell):\n",
    "    assert cell == ufl.quadrilateral\n",
    "    U_el = MixedElement(\n",
    "        [\n",
    "            VectorElement(\"Lagrange\", cell, 1),\n",
    "            FiniteElement(\"Lagrange\", cell, 1),\n",
    "            FiniteElement(\"RTCE\", cell, 1),\n",
    "            FiniteElement(\"RTCE\", cell, 1),\n",
    "        ]\n",
    "    )\n",
    "    return U_el\n",
    "\n",
    "\n",
    "def MITC7(cell):\n",
    "    raise NotImplementedError(\n",
    "        \"EnrichedElement and RestrictedElement not yet implemented.\"\n",
    "    )\n",
    "    assert cell == ufl.triangle\n",
    "    U_el = MixedElement(\n",
    "        [\n",
    "            EnrichedElement(\n",
    "                VectorElement(\"Lagrange\", cell, 2), VectorElement(\"Bubble\", cell, 3)\n",
    "            ),\n",
    "            FiniteElement(\"Lagrange\", cell, 2),\n",
    "            FiniteElement(\"N1curl\", cell, 2),\n",
    "            RestrictedElement(FiniteElement(\"N1curl\", cell, 2), \"edge\"),\n",
    "            RestrictedElement(FiniteElement(\"N1curl\", cell, 2), \"interior\"),\n",
    "        ]\n",
    "    )\n",
    "    return U_el\n",
    "\n",
    "\n",
    "def MITC9(cell):\n",
    "    assert cell == ufl.quadrilateral\n",
    "    U_el = MixedElement(\n",
    "        [\n",
    "            VectorElement(\"Lagrange\", cell, 2),\n",
    "            FiniteElement(\"S\", cell, 2),\n",
    "            FiniteElement(\"BDMCE\", cell, 1),\n",
    "            FiniteElement(\"BDMCE\", cell, 1),\n",
    "        ]\n",
    "    )\n",
    "    return U_el"
   ]
  },
  {
   "cell_type": "code",
   "execution_count": 5,
   "id": "7bdec6c6-cf60-4b84-ac24-de6967bbccd2",
   "metadata": {},
   "outputs": [],
   "source": [
    "U_el = duran_liberman(mesh.ufl_cell())\n",
    "\n",
    "U = FunctionSpace(mesh, U_el)\n",
    "\n",
    "u_ = Function(U)\n",
    "u = ufl.TrialFunction(U)\n",
    "u_t = ufl.TestFunction(U)\n",
    "\n",
    "theta_, w_, R_gamma_, p_ = split(u_)"
   ]
  },
  {
   "cell_type": "markdown",
   "id": "fancy-sociology",
   "metadata": {},
   "source": [
    "We assume constant material parameters; Young's modulus $E$, Poisson's ratio $\\nu$, shear-correction factor $\\kappa$, and thickness\n",
    "$t$."
   ]
  },
  {
   "cell_type": "code",
   "execution_count": 6,
   "id": "lesser-republican",
   "metadata": {},
   "outputs": [],
   "source": [
    "E = 10920.0\n",
    "nu = 0.3\n",
    "kappa = 5.0 / 6.0\n",
    "t = 0.001"
   ]
  },
  {
   "cell_type": "markdown",
   "id": "sound-phrase",
   "metadata": {},
   "source": [
    "The bending strain tensor $k$ for the Reissner-Mindlin model can be expressed in terms of the rotation field $\\theta$\n",
    "\n",
    "$$\n",
    "k(\\theta) = \\dfrac{1}{2}(\\nabla \\theta + (\\nabla \\theta)^T)\n",
    "$$\n",
    "\n",
    "The bending energy density $\\psi_b$ for the Reissner-Mindlin model is a\n",
    "function of the bending strain tensor $k$\n",
    "\n",
    "$$\n",
    "\\psi_b(k) = \\frac{1}{2} D \\left( (1 - \\nu) \\, \\mathrm{tr}\\,(k^2) + \\nu \\, (\\mathrm{tr}    \\,k)^2 \\right) \\qquad\n",
    "D = \\frac{Et^3}{12(1 - \\nu^2)}\n",
    "$$\n",
    "\n",
    "which can be expressed in UFL as"
   ]
  },
  {
   "cell_type": "code",
   "execution_count": 7,
   "id": "incorrect-rebecca",
   "metadata": {},
   "outputs": [],
   "source": [
    "D = (E * t ** 3) / (24.0 * (1.0 - nu ** 2))\n",
    "k = sym(grad(theta_))\n",
    "psi_b = D * ((1.0 - nu) * tr(k * k) + nu * (tr(k)) ** 2)"
   ]
  },
  {
   "cell_type": "markdown",
   "id": "fluid-knight",
   "metadata": {},
   "source": [
    "Because we are using a mixed variational formulation, we choose to write the\n",
    "shear energy density $\\psi_s$ is a function of the reduced shear strain\n",
    "vector\n",
    "\n",
    "$$\\psi_s(\\gamma_R) = \\frac{E \\kappa t}{4(1 + \\nu)}\\gamma_R^2,$$\n",
    "\n",
    "or in UFL:"
   ]
  },
  {
   "cell_type": "code",
   "execution_count": 8,
   "id": "prostate-laundry",
   "metadata": {},
   "outputs": [],
   "source": [
    "psi_s = ((E * kappa * t) / (4.0 * (1.0 + nu))) * inner(R_gamma_, R_gamma_)"
   ]
  },
  {
   "cell_type": "markdown",
   "id": "comparable-outline",
   "metadata": {},
   "source": [
    "Finally, we can write out external work due to the uniform loading in the out-of-plane direction\n",
    "\n",
    "$$\n",
    "W_{\\mathrm{ext}} = \\int_{\\Omega} ft^3 \\cdot w \\; \\mathrm{d}x.\n",
    "$$"
   ]
  },
  {
   "cell_type": "markdown",
   "id": "charming-score",
   "metadata": {},
   "source": [
    "where $f = 1$ and $\\mathrm{d}x$ is a measure on the whole domain.\n",
    "The scaling by $t^3$ is included to ensure a correct limit solution as\n",
    "$t \\to 0$.\n",
    "\n",
    "In UFL this can be expressed as"
   ]
  },
  {
   "cell_type": "code",
   "execution_count": 9,
   "id": "favorite-repository",
   "metadata": {},
   "outputs": [],
   "source": [
    "W_ext = inner(1.0 * t ** 3, w_) * dx"
   ]
  },
  {
   "cell_type": "markdown",
   "id": "mathematical-narrative",
   "metadata": {},
   "source": [
    "With all of the standard mechanical terms defined, we can turn to defining the\n",
    "Duran-Liberman reduction operator. This operator 'ties' our reduced\n",
    "shear strain field to the shear strain calculated in the primal space.  A\n",
    "partial explanation of the thinking behind this approach is given in the Appendix\n",
    "at the bottom of this notebook.\n",
    "\n",
    "The shear strain vector $\\gamma$ can be expressed in terms\n",
    "of the rotation and transverse displacement field\n",
    "\n",
    "$$\\gamma(\\theta, w) = \\nabla w - \\theta$$\n",
    "\n",
    "or in UFL"
   ]
  },
  {
   "cell_type": "code",
   "execution_count": 10,
   "id": "later-lemon",
   "metadata": {},
   "outputs": [],
   "source": [
    "gamma = grad(w_) - theta_"
   ]
  },
  {
   "cell_type": "markdown",
   "id": "brown-evolution",
   "metadata": {},
   "source": [
    "We require that the shear strain calculated using the displacement unknowns\n",
    "$\\gamma = \\nabla w - \\theta$ be equal, in a weak sense, to the conforming\n",
    "shear strain field $\\gamma_R \\in \\mathrm{NED}_1$ that we used to define\n",
    "the shear energy above.  We enforce this constraint using a Lagrange multiplier\n",
    "field $p \\in \\mathrm{NED}_1$. We can write the Lagrangian functional of this\n",
    "constraint as:\n",
    "\n",
    "$$\\Pi_R(\\gamma, \\gamma_R, p) = \\int_{e} \\left( \\left\\lbrace \\gamma_R - \\gamma \\right\\rbrace \\cdot t \\right) \\cdot \\left( p \\cdot t \\right) \\; \\mathrm{d}s$$\n",
    "\n",
    "where $e$ are all of edges of the cells in the mesh and $t$ is the\n",
    "tangent vector on each edge.\n",
    "\n",
    "Writing this operator out in UFL is quite verbose, so `fenics_shellsx`\n",
    "includes a special inner product function `inner_e` to\n",
    "help. However, we choose to write this function in full here"
   ]
  },
  {
   "cell_type": "code",
   "execution_count": 11,
   "id": "fifteen-conservation",
   "metadata": {},
   "outputs": [],
   "source": [
    "# TODO: Adjust quadrature degree based on element design.\n",
    "dSp = ufl.Measure(\"dS\", metadata={\"quadrature_degree\": 1})\n",
    "dsp = ufl.Measure(\"ds\", metadata={\"quadrature_degree\": 1})\n",
    "\n",
    "n = ufl.FacetNormal(mesh)\n",
    "t = ufl.as_vector((-n[1], n[0]))\n",
    "\n",
    "\n",
    "def inner_e(x, y):\n",
    "    return (\n",
    "        (inner(x, t) * inner(y, t))(\"+\") * dSp\n",
    "        + (inner(x, t) * inner(y, t))(\"-\") * dSp\n",
    "        + (inner(x, t) * inner(y, t)) * dsp\n",
    "    )\n",
    "\n",
    "\n",
    "Pi_R = inner_e(gamma - R_gamma_, p_)"
   ]
  },
  {
   "cell_type": "markdown",
   "id": "selected-wrestling",
   "metadata": {},
   "source": [
    "We can now define our Lagrangian for the complete system and derive the residual and Jacobian automatically using the standard UFL `derivative` function"
   ]
  },
  {
   "cell_type": "code",
   "execution_count": 12,
   "id": "acoustic-polls",
   "metadata": {},
   "outputs": [],
   "source": [
    "Pi = psi_b * dx + psi_s * dx + Pi_R - W_ext\n",
    "F = ufl.derivative(Pi, u_, u_t)\n",
    "J = ufl.derivative(F, u_, u)"
   ]
  },
  {
   "cell_type": "markdown",
   "id": "prime-bobby",
   "metadata": {},
   "source": [
    "In the following we use standard from `dolfinx` to apply boundary conditions, assemble, solve and output the solution.\n",
    "\n",
    "Note that for a fully clamped plate $\\gamma_R \\in H_0(\\mathrm{rot}; \\Omega)$ which is the Sobolev space of vector-valued functions with square integrable whose tangential component $\\gamma_R \\cdot t$ vanishes on the boundary. So, it is also necessary to apply boundary conditions on this space.\n",
    "\n",
    "For simplicity of implementation we also apply boundary conditions on the Lagrange multiplier space but this is not strictly necessary as the Lagrange multiplier simply constrains $\\gamma_R \\cdot t$ to $\\gamma = \\nabla w - \\theta$, all of which are enforced to be zero by definition."
   ]
  },
  {
   "cell_type": "code",
   "execution_count": 13,
   "id": "decent-wyoming",
   "metadata": {},
   "outputs": [
    {
     "name": "stdout",
     "output_type": "stream",
     "text": [
      "1.2850646949756448e-06\n"
     ]
    }
   ],
   "source": [
    "u0 = Function(U)\n",
    "u0.vector.set(0.0)\n",
    "facets = locate_entities_boundary(mesh, 1, lambda x: np.ones(x.shape[1], dtype=bool))\n",
    "dofs0 = locate_dofs_topological(U, 1, facets)\n",
    "bcs = [DirichletBC(u0, dofs0)]\n",
    "\n",
    "A = dolfinx.fem.assemble_matrix(J, bcs=bcs)\n",
    "A.assemble()\n",
    "\n",
    "b = dolfinx.fem.assemble_vector(-F)\n",
    "dolfinx.fem.apply_lifting(b, [J], [bcs])\n",
    "b.ghostUpdate(addv=PETSc.InsertMode.ADD, mode=PETSc.ScatterMode.REVERSE)\n",
    "dolfinx.fem.set_bc(b, bcs)\n",
    "\n",
    "ksp = PETSc.KSP().create(MPI.COMM_WORLD)\n",
    "\n",
    "pc = ksp.getPC()\n",
    "pc.setType(\"lu\")\n",
    "pc.setFactorSolverType(\"mumps\")\n",
    "\n",
    "ksp.setOperators(A)\n",
    "ksp.setType(\"preonly\")\n",
    "ksp.setFromOptions()\n",
    "ksp.solve(b, u_.vector)\n",
    "\n",
    "bb_tree = dolfinx.cpp.geometry.BoundingBoxTree(mesh, 2)\n",
    "point = np.array([0.5, 0.5, 0.0], dtype=np.float64)\n",
    "cell_candidates = dolfinx.cpp.geometry.compute_collisions_point(bb_tree, point)\n",
    "cell = dolfinx.cpp.geometry.select_colliding_cells(mesh, cell_candidates, point, 1)\n",
    "\n",
    "theta, w, R_gamma, p = u_.split()\n",
    "\n",
    "if len(cell) > 0:\n",
    "    value = w.eval(point, cell)\n",
    "    print(value[0])\n",
    "    # NOTE: FEniCS-Shells (old dolfin) `demo/documented/reissner-mindlin-clamped`\n",
    "    # gives 1.28506469462e-06 on a 32 x 32 mesh and 1.2703580973e-06 on a 64 x 64\n",
    "    # mesh.\n",
    "    def test_center_displacement():\n",
    "        assert np.isclose(value[0], 1.285e-6, atol=1e-3, rtol=1e-3)\n",
    "\n",
    "\n",
    "with XDMFFile(MPI.COMM_WORLD, \"w.xdmf\", \"w\") as f:\n",
    "    f.write_mesh(mesh)\n",
    "    f.write_function(w)\n",
    "\n",
    "with XDMFFile(MPI.COMM_WORLD, \"theta.xdmf\", \"w\") as f:\n",
    "    f.write_mesh(mesh)\n",
    "    f.write_function(theta)"
   ]
  },
  {
   "cell_type": "markdown",
   "id": "according-christopher",
   "metadata": {},
   "source": [
    "## Appendix"
   ]
  },
  {
   "cell_type": "markdown",
   "id": "genetic-optimum",
   "metadata": {},
   "source": [
    "For the clamped problem we have the following regularity for our two fields,\n",
    "$\\theta \\in [H^1_0(\\Omega)]^2$ and $w \\in [H^1_0(\\Omega)]^2$ where\n",
    "$H^1_0(\\Omega)$ is the usual Sobolev space of functions with square\n",
    "integrable first derivatives that vanish on the boundary. If we then take\n",
    "$\\nabla w$ we have the result $\\nabla w \\in H_0(\\mathrm{rot};\n",
    "\\Omega)$ which is the Sobolev space of vector-valued functions with square\n",
    "integrable $\\mathrm{rot}$ whose tangential component $\\nabla w\n",
    "\\cdot t$ vanishes on the boundary.\n",
    "\n",
    "Let's look at our expression for the shear strain vector in light of these new\n",
    "results. In the thin-plate limit $t \\to 0$, we would like to recover our\n",
    "the standard Kirchhoff-Love problem where we do not have transverse shear\n",
    "strains $\\gamma \\to 0$ at all. In a finite element context, where we have\n",
    "discretised fields $w_h$ and $\\theta_h$ we then would like\n",
    "\n",
    "$$\\gamma(\\theta_h, w_h) := \\nabla w_h - \\theta_h = 0 \\quad t \\to 0 \\; \\forall x \\in \\Omega$$\n",
    "\n",
    "If we think about using first-order piecewise linear polynomial finite elements\n",
    "for both fields, then we are requiring that piecewise constant functions\n",
    "($\\nabla w_h$) are equal to piecewise linear functions ($\\theta_h$)\n",
    "! This is strong requirement, and is the root of the famous shear-locking\n",
    "problem. The trick of the Durán-Liberman approach is recognising that by\n",
    "modifying the rotation field at the discrete level by applying a special\n",
    "operator $R_h$ that takes the rotations to the conforming space\n",
    "$\\mathrm{NED}_1 \\subset H_0(\\mathrm{rot}; \\Omega)$ for the shear strains\n",
    "that we previously identified:\n",
    "\n",
    "$$R_h : H_0^1(\\Omega) \\to H_0(\\mathrm{rot}; \\Omega)$$\n",
    "\n",
    "we can 'unlock' the element. With this reduction operator applied as follows:\n",
    "\n",
    "$$\\gamma(\\theta_h, w_h) := R_h(\\nabla w_h - \\theta_h = 0) \\quad t \\to 0 \\; \\forall x \\in \\Omega$$\n",
    "\n",
    "our requirement of vanishing shear strains can actually hold. This is the basic\n",
    "mathematical idea behind all MITC approaches, of which the Durán-Liberman\n",
    "approach is a specific implementation."
   ]
  }
 ],
 "metadata": {
  "kernelspec": {
   "display_name": "Python 3 (ipykernel)",
   "language": "python",
   "name": "python3"
  },
  "language_info": {
   "codemirror_mode": {
    "name": "ipython",
    "version": 3
   },
   "file_extension": ".py",
   "mimetype": "text/x-python",
   "name": "python",
   "nbconvert_exporter": "python",
   "pygments_lexer": "ipython3",
   "version": "3.9.5"
  }
 },
 "nbformat": 4,
 "nbformat_minor": 5
}
