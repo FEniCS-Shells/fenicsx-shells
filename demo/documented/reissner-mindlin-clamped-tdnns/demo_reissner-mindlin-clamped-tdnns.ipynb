{
 "cells": [
  {
   "cell_type": "markdown",
   "id": "developed-surveillance",
   "metadata": {},
   "source": [
    "# Clamped Reissner-Mindlin plate under uniform load using TDNNS finite element method\n",
    "\n",
    "This demo program solves the out-of-plane Reissner-Mindlin equations on the\n",
    "unit square with uniform transverse loading with fully clamped boundary\n",
    "conditions using the Tangential-Displacement-Normal-Normal-Stress (TDNNS)\n",
    "method described in Pechstein and Schöberl [ref]. Instead of writing the \n",
    "Lagrangian for the energy and then differentiating we write the minimisation\n",
    "directly. We follow the notation of Pechstein and Schöberl [ref] throughout.\n",
    "\n",
    "It is assumed the reader understands most of the basic functionality\n",
    "of the new FEniCSx Project.\n",
    "\n",
    "This demo illustrates how to:\n",
    "\n",
    "We begin by importing the necessary functionality from DOLFINx, UFL and PETSc."
   ]
  },
  {
   "cell_type": "code",
   "execution_count": 1,
   "id": "spare-commerce",
   "metadata": {},
   "outputs": [],
   "source": [
    "import dolfinx\n",
    "import numpy as np\n",
    "import ufl\n",
    "from dolfinx import Constant, DirichletBC, Function, FunctionSpace, UnitSquareMesh\n",
    "from dolfinx.cpp.mesh import CellType\n",
    "from dolfinx.fem import (\n",
    "    apply_lifting,\n",
    "    assemble_matrix,\n",
    "    assemble_vector,\n",
    "    locate_dofs_topological,\n",
    "    set_bc,\n",
    ")\n",
    "from dolfinx.io import XDMFFile\n",
    "from dolfinx.mesh import locate_entities_boundary\n",
    "from mpi4py import MPI\n",
    "from petsc4py import PETSc\n",
    "from ufl import (\n",
    "    FacetNormal,\n",
    "    FiniteElement,\n",
    "    Identity,\n",
    "    MixedElement,\n",
    "    VectorElement,\n",
    "    dot,\n",
    "    ds,\n",
    "    dS,\n",
    "    dx,\n",
    "    grad,\n",
    "    inner,\n",
    "    jump,\n",
    "    split,\n",
    "    sym,\n",
    "    tr,\n",
    ")"
   ]
  },
  {
   "cell_type": "markdown",
   "id": "hazardous-sight",
   "metadata": {},
   "source": [
    "We then create a two-dimensional mesh of the mid-plane of the plate $\\Omega = [0, 1] \\times [0, 1]$. `GhostMode.shared_facet` is required."
   ]
  },
  {
   "cell_type": "code",
   "execution_count": 2,
   "id": "failing-emperor",
   "metadata": {},
   "outputs": [],
   "source": [
    "mesh = UnitSquareMesh(\n",
    "    MPI.COMM_WORLD, 32, 32, CellType.triangle, dolfinx.cpp.mesh.GhostMode.shared_facet\n",
    ")"
   ]
  },
  {
   "cell_type": "markdown",
   "id": "northern-intellectual",
   "metadata": {},
   "source": [
    "The first-order TDNNS element for the Reissner-Mindlin plate problem consists of:\n",
    "\n",
    "- the first-order tensor-valued $H(\\mathrm{div} \\; \\mathrm{div})$-conforming rotated Regge element for the bending moments $M \\in \\mathrm{SREG}_1$,\n",
    "- the first-order vector-valued Nedéléc element of the second-kind for the rotation field $\\theta \\in\n",
    "  \\mathrm{NED}_1^2$ and,\n",
    "- a second-order scalar-valued Lagrange element for the transverse\n",
    "  displacement field $w \\in \\mathrm{CG}_2$.\n",
    "\n",
    "The final element definition is"
   ]
  },
  {
   "cell_type": "code",
   "execution_count": 3,
   "id": "empty-concern",
   "metadata": {},
   "outputs": [],
   "source": [
    "U_el = MixedElement(\n",
    "    [\n",
    "        FiniteElement(\"Regge\", ufl.triangle, 1),\n",
    "        FiniteElement(\"N2curl\", ufl.triangle, 1),\n",
    "        FiniteElement(\"Lagrange\", ufl.triangle, 2),\n",
    "    ]\n",
    ")\n",
    "U = FunctionSpace(mesh, U_el)\n",
    "\n",
    "m, theta, w = ufl.TrialFunctions(U)\n",
    "tau, eta, v = ufl.TestFunctions(U)"
   ]
  },
  {
   "cell_type": "markdown",
   "id": "fancy-sociology",
   "metadata": {},
   "source": [
    "We assume constant material parameters; Young's modulus $E$, Poisson's ratio $\\nu$, shear-correction factor $\\kappa$, and thickness\n",
    "$t$."
   ]
  },
  {
   "cell_type": "code",
   "execution_count": 4,
   "id": "lesser-republican",
   "metadata": {},
   "outputs": [],
   "source": [
    "E = 10920.0\n",
    "nu = 0.3\n",
    "kappa = 5.0 / 6.0\n",
    "t = 0.001"
   ]
  },
  {
   "cell_type": "code",
   "execution_count": 5,
   "id": "incorrect-rebecca",
   "metadata": {},
   "outputs": [],
   "source": [
    "def A_b(m):\n",
    "    \"\"\"Bending compliance\"\"\"\n",
    "    return (12.0 / E) * ((1 + nu) * m - nu * tr(m) * Identity(2))"
   ]
  },
  {
   "cell_type": "code",
   "execution_count": 8,
   "id": "prostate-laundry",
   "metadata": {},
   "outputs": [],
   "source": [
    "def b(tau, eta):\n",
    "    \"\"\"Discrete duality inner product\"\"\"\n",
    "    n = FacetNormal(mesh)\n",
    "    return (\n",
    "        inner(tau, sym(grad(eta))) * dx\n",
    "        - dot(dot(tau(\"+\"), n(\"+\")), n(\"+\")) * jump(dot(eta, n)) * dS\n",
    "        - dot(dot(tau, n), n) * dot(eta, n) * ds\n",
    "    )\n",
    "\n",
    "\n",
    "mu = kappa * E / (2.0 * (1.0 + nu))\n",
    "\n",
    "a = (\n",
    "    inner(A_b(m), tau) * dx\n",
    "    + b(tau, theta)\n",
    "    + b(m, eta)\n",
    "    - mu * t ** -2 * inner(grad(w) - theta, grad(v) - eta) * dx\n",
    ")\n",
    "L = -inner(1.0, v) * dx\n",
    "\n",
    "# TODO: Check boundary conditions\n",
    "u0 = Function(U)\n",
    "u0.vector.set(0.0)\n",
    "facets = locate_entities_boundary(mesh, 1, lambda x: np.ones(x.shape[1], dtype=bool))\n",
    "dofs0 = locate_dofs_topological(U, 1, facets)\n",
    "bcs = [DirichletBC(u0, dofs0)]"
   ]
  },
  {
   "cell_type": "markdown",
   "id": "prime-bobby",
   "metadata": {},
   "source": [
    "In the following we use standard from `dolfinx` to apply boundary conditions, assemble, solve and output the solution."
   ]
  },
  {
   "cell_type": "code",
   "execution_count": 7,
   "id": "decent-wyoming",
   "metadata": {},
   "outputs": [
    {
     "name": "stdout",
     "output_type": "stream",
     "text": [
      "2.630523260437713e-09\n"
     ]
    }
   ],
   "source": [
    "A = dolfinx.fem.assemble_matrix(a, bcs=bcs)\n",
    "A.assemble()\n",
    "\n",
    "b = dolfinx.fem.assemble_vector(L)\n",
    "dolfinx.fem.apply_lifting(b, [a], [bcs])\n",
    "b.ghostUpdate(addv=PETSc.InsertMode.ADD, mode=PETSc.ScatterMode.REVERSE)\n",
    "dolfinx.fem.set_bc(b, bcs)\n",
    "\n",
    "ksp = PETSc.KSP().create(MPI.COMM_WORLD)\n",
    "\n",
    "pc = ksp.getPC()\n",
    "pc.setType(\"lu\")\n",
    "pc.setFactorSolverType(\"mumps\")\n",
    "\n",
    "u_ = Function(U)\n",
    "ksp.setOperators(A)\n",
    "ksp.setType(\"preonly\")\n",
    "ksp.setFromOptions()\n",
    "ksp.solve(b, u_.vector)\n",
    "\n",
    "bb_tree = dolfinx.cpp.geometry.BoundingBoxTree(mesh, 2)\n",
    "point = np.array([0.5, 0.5, 0.0], dtype=np.float64)\n",
    "cell_candidates = dolfinx.cpp.geometry.compute_collisions_point(bb_tree, point)\n",
    "cell = dolfinx.cpp.geometry.select_colliding_cells(mesh, cell_candidates, point, 1)\n",
    "\n",
    "m, theta, w = u_.split()\n",
    "\n",
    "if len(cell) > 0:\n",
    "    value = w.eval(point, cell)\n",
    "    print(value[0])\n",
    "    # NOTE: FEniCS-Shells (old dolfin) `demo/documented/reissner-mindlin-clamped`\n",
    "    # gives 1.28506469462e-06 on a 32 x 32 mesh and 1.2703580973e-06 on a 64 x 64\n",
    "    # mesh.\n",
    "    def test_center_displacement():\n",
    "        assert np.isclose(value[0], 1.285e-6, atol=1e-3, rtol=1e-3)\n",
    "\n",
    "\n",
    "with XDMFFile(MPI.COMM_WORLD, \"w.xdmf\", \"w\") as f:\n",
    "    f.write_mesh(mesh)\n",
    "    f.write_function(w)\n",
    "\n",
    "with XDMFFile(MPI.COMM_WORLD, \"theta.xdmf\", \"w\") as f:\n",
    "    f.write_mesh(mesh)\n",
    "    f.write_function(theta)"
   ]
  },
  {
   "cell_type": "markdown",
   "id": "according-christopher",
   "metadata": {},
   "source": [
    "## Appendix"
   ]
  }
 ],
 "metadata": {
  "kernelspec": {
   "display_name": "Python 3 (ipykernel)",
   "language": "python",
   "name": "python3"
  },
  "language_info": {
   "codemirror_mode": {
    "name": "ipython",
    "version": 3
   },
   "file_extension": ".py",
   "mimetype": "text/x-python",
   "name": "python",
   "nbconvert_exporter": "python",
   "pygments_lexer": "ipython3",
   "version": "3.9.5"
  }
 },
 "nbformat": 4,
 "nbformat_minor": 5
}
