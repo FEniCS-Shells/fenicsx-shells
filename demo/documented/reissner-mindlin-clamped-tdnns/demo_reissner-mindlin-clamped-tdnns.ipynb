{
 "cells": [
  {
   "cell_type": "markdown",
   "id": "developed-surveillance",
   "metadata": {},
   "source": [
    "# Clamped Reissner-Mindlin plate under uniform load using TDNNS finite element method\n",
    "\n",
    "This demo program solves the out-of-plane Reissner-Mindlin equations on the\n",
    "unit square with uniform transverse loading with fully clamped boundary\n",
    "conditions using the Tangential-Displacement-Normal-Normal-Stress (TDNNS)\n",
    "method described in Pechstein and Schöberl [ref].\n",
    "\n",
    "It is assumed the reader understands most of the basic functionality\n",
    "of the new FEniCSx Project.\n",
    "\n",
    "This demo illustrates how to:\n",
    "\n",
    "We begin by importing the necessary functionality from DOLFINx, UFL and PETSc."
   ]
  },
  {
   "cell_type": "code",
   "execution_count": 2,
   "id": "spare-commerce",
   "metadata": {},
   "outputs": [],
   "source": [
    "import numpy as np\n",
    "\n",
    "from mpi4py import MPI\n",
    "from petsc4py import PETSc\n",
    "\n",
    "import dolfinx\n",
    "from dolfinx import UnitSquareMesh, Function, FunctionSpace, DirichletBC, Constant\n",
    "from dolfinx.cpp.mesh import CellType\n",
    "from dolfinx.fem import (apply_lifting, assemble_matrix, assemble_vector,\n",
    "                         locate_dofs_topological, set_bc)\n",
    "from dolfinx.mesh import locate_entities_boundary\n",
    "from dolfinx.io import XDMFFile\n",
    "\n",
    "import ufl\n",
    "from ufl import FiniteElement, MixedElement, VectorElement\n",
    "from ufl import sym, grad, tr, dx, inner, split"
   ]
  },
  {
   "cell_type": "markdown",
   "id": "hazardous-sight",
   "metadata": {},
   "source": [
    "We then create a two-dimensional mesh of the mid-plane of the plate $\\Omega = [0, 1] \\times [0, 1]$. `GhostMode.shared_facet` is required."
   ]
  },
  {
   "cell_type": "code",
   "execution_count": 3,
   "id": "failing-emperor",
   "metadata": {},
   "outputs": [],
   "source": [
    "mesh = UnitSquareMesh(MPI.COMM_WORLD, 32, 32, CellType.triangle,\n",
    "                      dolfinx.cpp.mesh.GhostMode.shared_facet)"
   ]
  },
  {
   "cell_type": "markdown",
   "id": "northern-intellectual",
   "metadata": {},
   "source": [
    "The first-order TDNNS element for the Reissner-Mindlin plate problem consists of:\n",
    "\n",
    "- the first-order tensor-valued $H(\\mathrm{div} \\; \\mathrm{div})$-conforming rotated Regge element for the bending moments $M \\in \\mathrm{SREG}_1$,\n",
    "- the first-order vector-valued Nedéléc element of the second-kind for the rotation field $\\theta \\in\n",
    "  \\mathrm{NED}_1^2$ and,\n",
    "- a second-order scalar-valued Lagrange element for the transverse\n",
    "  displacement field $w \\in \\mathrm{CG}_2$.\n",
    "\n",
    "The final element definition is"
   ]
  },
  {
   "cell_type": "code",
   "execution_count": 7,
   "id": "empty-concern",
   "metadata": {},
   "outputs": [],
   "source": [
    "U_el = MixedElement([FiniteElement(\"Regge\", ufl.triangle, 1), FiniteElement(\"N2curl\", ufl.triangle, 1),\n",
    "                     FiniteElement(\"Lagrange\", ufl.triangle, 2)])\n",
    "U = FunctionSpace(mesh, U_el)\n",
    "\n",
    "u_ = Function(U)\n",
    "u = ufl.TrialFunction(U)\n",
    "u_t = ufl.TestFunction(U)\n",
    "\n",
    "m_, theta_, w_ = split(u_)"
   ]
  },
  {
   "cell_type": "markdown",
   "id": "fancy-sociology",
   "metadata": {},
   "source": [
    "We assume constant material parameters; Young's modulus $E$, Poisson's ratio $\\nu$, shear-correction factor $\\kappa$, and thickness\n",
    "$t$."
   ]
  },
  {
   "cell_type": "code",
   "execution_count": 9,
   "id": "lesser-republican",
   "metadata": {},
   "outputs": [],
   "source": [
    "E = 10920.0\n",
    "nu = 0.3\n",
    "kappa = 5.0/6.0\n",
    "t = 0.001"
   ]
  },
  {
   "cell_type": "code",
   "execution_count": null,
   "id": "incorrect-rebecca",
   "metadata": {},
   "outputs": [],
   "source": [
    "# TODO: Rewrite bending energy in terms of compliance tensor and bending moment\n",
    "D = (E*t**3)/(12.0*(1.0 - nu**2))\n",
    "psi_b = 0.5*D*((1.0 - nu)*tr(k*k) + nu*(tr(k))**2)"
   ]
  },
  {
   "cell_type": "code",
   "execution_count": 6,
   "id": "prostate-laundry",
   "metadata": {},
   "outputs": [],
   "source": [
    "gamma = grad(w_) - theta_\n",
    "psi_s = ((E*kappa*t)/(4.0*(1.0 + nu)))*inner(gamma_, gamma_)"
   ]
  },
  {
   "cell_type": "code",
   "execution_count": 7,
   "id": "favorite-repository",
   "metadata": {},
   "outputs": [],
   "source": [
    "W_ext = inner(1.0*t**3, w_)*dx"
   ]
  },
  {
   "cell_type": "markdown",
   "id": "mathematical-narrative",
   "metadata": {},
   "source": [
    "The shear strain vector $\\gamma$ can be expressed in terms\n",
    "of the rotation and transverse displacement field\n",
    "\n",
    "$$\\gamma(\\theta, w) = \\nabla w - \\theta$$\n",
    "\n",
    "or in UFL"
   ]
  },
  {
   "cell_type": "code",
   "execution_count": 8,
   "id": "later-lemon",
   "metadata": {},
   "outputs": [],
   "source": [
    "gamma = grad(w_) - theta_"
   ]
  },
  {
   "cell_type": "markdown",
   "id": "selected-wrestling",
   "metadata": {},
   "source": [
    "We can now define our Lagrangian for the complete system and derive the residual and Jacobian automatically using the standard UFL `derivative` function"
   ]
  },
  {
   "cell_type": "code",
   "execution_count": 10,
   "id": "acoustic-polls",
   "metadata": {},
   "outputs": [],
   "source": [
    "Pi = \n",
    "F = ufl.derivative(Pi, u_, u_t)\n",
    "J = ufl.derivative(F, u_, u)"
   ]
  },
  {
   "cell_type": "markdown",
   "id": "prime-bobby",
   "metadata": {},
   "source": [
    "In the following we use standard from `dolfinx` to apply boundary conditions, assemble, solve and output the solution."
   ]
  },
  {
   "cell_type": "code",
   "execution_count": 11,
   "id": "decent-wyoming",
   "metadata": {},
   "outputs": [
    {
     "name": "stdout",
     "output_type": "stream",
     "text": [
      "1.2850646949626487e-06\n"
     ]
    }
   ],
   "source": [
    "# TODO: Boundary conditions\n",
    "\n",
    "A = dolfinx.fem.assemble_matrix(J, bcs=bcs)\n",
    "A.assemble()\n",
    "\n",
    "b = dolfinx.fem.assemble_vector(-F)\n",
    "dolfinx.fem.apply_lifting(b, [J], [bcs])\n",
    "b.ghostUpdate(addv=PETSc.InsertMode.ADD, mode=PETSc.ScatterMode.REVERSE)\n",
    "dolfinx.fem.set_bc(b, bcs)\n",
    "\n",
    "ksp = PETSc.KSP().create(MPI.COMM_WORLD)\n",
    "\n",
    "pc = ksp.getPC()\n",
    "pc.setType(\"lu\")\n",
    "pc.setFactorSolverType(\"mumps\")\n",
    "\n",
    "ksp.setOperators(A)\n",
    "ksp.setType(\"preonly\")\n",
    "ksp.setFromOptions()\n",
    "ksp.solve(b, u_.vector)\n",
    "\n",
    "bb_tree = dolfinx.cpp.geometry.BoundingBoxTree(mesh, 2)\n",
    "point = np.array([0.5, 0.5, 0.0], dtype=np.float64)\n",
    "cell_candidates = dolfinx.cpp.geometry.compute_collisions_point(bb_tree, point)\n",
    "cell = dolfinx.cpp.geometry.select_colliding_cells(\n",
    "    mesh, cell_candidates, point, 1)\n",
    "\n",
    "theta, w, R_gamma, p = u_.split()\n",
    "\n",
    "if len(cell) > 0:\n",
    "    value = w.eval(point, cell)\n",
    "    print(value[0])\n",
    "    # NOTE: FEniCS-Shells (old dolfin) `demo/documented/reissner-mindlin-clamped` \n",
    "    # gives 1.28506469462e-06 on a 32 x 32 mesh and 1.2703580973e-06 on a 64 x 64\n",
    "    # mesh.\n",
    "    def test_center_displacement():\n",
    "        assert(np.isclose(value[0], 1.285E-6, atol=1E-3, rtol=1E-3))\n",
    "\n",
    "with XDMFFile(MPI.COMM_WORLD, \"w.xdmf\", \"w\") as f:\n",
    "    f.write_mesh(mesh)\n",
    "    f.write_function(w)\n",
    "    \n",
    "with XDMFFile(MPI.COMM_WORLD, \"theta.xdmf\", \"w\") as f:\n",
    "    f.write_mesh(mesh)\n",
    "    f.write_function(theta)"
   ]
  },
  {
   "cell_type": "markdown",
   "id": "according-christopher",
   "metadata": {},
   "source": [
    "## Appendix"
   ]
  }
 ],
 "metadata": {
  "kernelspec": {
   "display_name": "Python 3 (ipykernel)",
   "language": "python",
   "name": "python3"
  },
  "language_info": {
   "codemirror_mode": {
    "name": "ipython",
    "version": 3
   },
   "file_extension": ".py",
   "mimetype": "text/x-python",
   "name": "python",
   "nbconvert_exporter": "python",
   "pygments_lexer": "ipython3",
   "version": "3.8.10"
  }
 },
 "nbformat": 4,
 "nbformat_minor": 5
}
